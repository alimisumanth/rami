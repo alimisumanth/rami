{
 "cells": [
  {
   "cell_type": "code",
   "execution_count": 1,
   "metadata": {
    "execution": {
     "iopub.execute_input": "2022-07-24T07:25:10.089559Z",
     "iopub.status.busy": "2022-07-24T07:25:10.089559Z",
     "iopub.status.idle": "2022-07-24T07:25:39.416626Z",
     "shell.execute_reply": "2022-07-24T07:25:39.415622Z",
     "shell.execute_reply.started": "2022-07-24T07:25:10.089559Z"
    }
   },
   "outputs": [],
   "source": [
    "import pandas as pd\n",
    "import math\n",
    "import numpy as np\n",
    "from geopy import distance"
   ]
  },
  {
   "cell_type": "code",
   "execution_count": 2,
   "metadata": {
    "execution": {
     "iopub.execute_input": "2022-07-24T07:25:39.418624Z",
     "iopub.status.busy": "2022-07-24T07:25:39.418624Z",
     "iopub.status.idle": "2022-07-24T07:25:46.191214Z",
     "shell.execute_reply": "2022-07-24T07:25:46.190195Z",
     "shell.execute_reply.started": "2022-07-24T07:25:39.418624Z"
    }
   },
   "outputs": [],
   "source": [
    "df=pd.read_excel('QC-KPIs.xlsx',engine='openpyxl',sheet_name='Sheet1',index_col=0)"
   ]
  },
  {
   "cell_type": "code",
   "execution_count": 3,
   "metadata": {
    "execution": {
     "iopub.execute_input": "2022-07-24T07:25:46.193208Z",
     "iopub.status.busy": "2022-07-24T07:25:46.193208Z",
     "iopub.status.idle": "2022-07-24T07:25:46.504390Z",
     "shell.execute_reply": "2022-07-24T07:25:46.503424Z",
     "shell.execute_reply.started": "2022-07-24T07:25:46.193208Z"
    }
   },
   "outputs": [
    {
     "data": {
      "text/html": [
       "<div>\n",
       "<style scoped>\n",
       "    .dataframe tbody tr th:only-of-type {\n",
       "        vertical-align: middle;\n",
       "    }\n",
       "\n",
       "    .dataframe tbody tr th {\n",
       "        vertical-align: top;\n",
       "    }\n",
       "\n",
       "    .dataframe thead th {\n",
       "        text-align: right;\n",
       "    }\n",
       "</style>\n",
       "<table border=\"1\" class=\"dataframe\">\n",
       "  <thead>\n",
       "    <tr style=\"text-align: right;\">\n",
       "      <th></th>\n",
       "      <th>machine_id</th>\n",
       "      <th>event_id</th>\n",
       "      <th>events_name1</th>\n",
       "      <th>StartDate</th>\n",
       "      <th>start</th>\n",
       "      <th>start_latitude</th>\n",
       "      <th>start_longitude</th>\n",
       "      <th>events_name2</th>\n",
       "      <th>stop</th>\n",
       "      <th>stop_latitude</th>\n",
       "      <th>stop_longitude</th>\n",
       "      <th>Elapsed_Sec</th>\n",
       "      <th>distance</th>\n",
       "      <th>ItemCount</th>\n",
       "      <th>Weight (Tons)</th>\n",
       "    </tr>\n",
       "    <tr>\n",
       "      <th>Sno</th>\n",
       "      <th></th>\n",
       "      <th></th>\n",
       "      <th></th>\n",
       "      <th></th>\n",
       "      <th></th>\n",
       "      <th></th>\n",
       "      <th></th>\n",
       "      <th></th>\n",
       "      <th></th>\n",
       "      <th></th>\n",
       "      <th></th>\n",
       "      <th></th>\n",
       "      <th></th>\n",
       "      <th></th>\n",
       "      <th></th>\n",
       "    </tr>\n",
       "  </thead>\n",
       "  <tbody>\n",
       "    <tr>\n",
       "      <th>0</th>\n",
       "      <td>QC001</td>\n",
       "      <td>930</td>\n",
       "      <td>PICK</td>\n",
       "      <td>2021-03-01</td>\n",
       "      <td>2021-03-01 00:09:17.737</td>\n",
       "      <td>-37.66171</td>\n",
       "      <td>176.16986</td>\n",
       "      <td>PLACE</td>\n",
       "      <td>2021-03-01 00:12:45.736000</td>\n",
       "      <td>-37.65978</td>\n",
       "      <td>176.17058</td>\n",
       "      <td>207.999</td>\n",
       "      <td>0.2234</td>\n",
       "      <td>1</td>\n",
       "      <td>36</td>\n",
       "    </tr>\n",
       "    <tr>\n",
       "      <th>1</th>\n",
       "      <td>QC001</td>\n",
       "      <td>931</td>\n",
       "      <td>PICK</td>\n",
       "      <td>2021-03-01</td>\n",
       "      <td>2021-03-01 00:19:28.734</td>\n",
       "      <td>-37.66162</td>\n",
       "      <td>176.16988</td>\n",
       "      <td>PLACE</td>\n",
       "      <td>2021-03-01 00:22:36.735000</td>\n",
       "      <td>-37.66371</td>\n",
       "      <td>176.16962</td>\n",
       "      <td>188.001</td>\n",
       "      <td>0.2331</td>\n",
       "      <td>1</td>\n",
       "      <td>27</td>\n",
       "    </tr>\n",
       "    <tr>\n",
       "      <th>2</th>\n",
       "      <td>QC001</td>\n",
       "      <td>932</td>\n",
       "      <td>PICK</td>\n",
       "      <td>2021-03-01</td>\n",
       "      <td>2021-03-01 00:27:40.736</td>\n",
       "      <td>-37.66180</td>\n",
       "      <td>176.16984</td>\n",
       "      <td>PLACE</td>\n",
       "      <td>2021-03-01 00:32:08.734001</td>\n",
       "      <td>-37.66428</td>\n",
       "      <td>176.17333</td>\n",
       "      <td>267.998</td>\n",
       "      <td>0.4130</td>\n",
       "      <td>1</td>\n",
       "      <td>37</td>\n",
       "    </tr>\n",
       "    <tr>\n",
       "      <th>3</th>\n",
       "      <td>QC001</td>\n",
       "      <td>933</td>\n",
       "      <td>PICK</td>\n",
       "      <td>2021-03-01</td>\n",
       "      <td>2021-03-01 00:36:53.733</td>\n",
       "      <td>-37.66216</td>\n",
       "      <td>176.16977</td>\n",
       "      <td>PLACE</td>\n",
       "      <td>2021-03-01 00:39:10.736000</td>\n",
       "      <td>-37.66344</td>\n",
       "      <td>176.17103</td>\n",
       "      <td>137.003</td>\n",
       "      <td>0.1804</td>\n",
       "      <td>1</td>\n",
       "      <td>37</td>\n",
       "    </tr>\n",
       "    <tr>\n",
       "      <th>4</th>\n",
       "      <td>QC001</td>\n",
       "      <td>934</td>\n",
       "      <td>PICK</td>\n",
       "      <td>2021-03-01</td>\n",
       "      <td>2021-03-01 00:42:01.736</td>\n",
       "      <td>-37.66665</td>\n",
       "      <td>176.17189</td>\n",
       "      <td>PLACE</td>\n",
       "      <td>2021-03-01 00:46:15.737000</td>\n",
       "      <td>-37.66219</td>\n",
       "      <td>176.16977</td>\n",
       "      <td>254.001</td>\n",
       "      <td>0.5292</td>\n",
       "      <td>1</td>\n",
       "      <td>38</td>\n",
       "    </tr>\n",
       "  </tbody>\n",
       "</table>\n",
       "</div>"
      ],
      "text/plain": [
       "    machine_id  event_id events_name1  StartDate                   start  \\\n",
       "Sno                                                                        \n",
       "0        QC001       930         PICK 2021-03-01 2021-03-01 00:09:17.737   \n",
       "1        QC001       931         PICK 2021-03-01 2021-03-01 00:19:28.734   \n",
       "2        QC001       932         PICK 2021-03-01 2021-03-01 00:27:40.736   \n",
       "3        QC001       933         PICK 2021-03-01 2021-03-01 00:36:53.733   \n",
       "4        QC001       934         PICK 2021-03-01 2021-03-01 00:42:01.736   \n",
       "\n",
       "     start_latitude  start_longitude events_name2                       stop  \\\n",
       "Sno                                                                            \n",
       "0         -37.66171        176.16986        PLACE 2021-03-01 00:12:45.736000   \n",
       "1         -37.66162        176.16988        PLACE 2021-03-01 00:22:36.735000   \n",
       "2         -37.66180        176.16984        PLACE 2021-03-01 00:32:08.734001   \n",
       "3         -37.66216        176.16977        PLACE 2021-03-01 00:39:10.736000   \n",
       "4         -37.66665        176.17189        PLACE 2021-03-01 00:46:15.737000   \n",
       "\n",
       "     stop_latitude  stop_longitude  Elapsed_Sec  distance  ItemCount  \\\n",
       "Sno                                                                    \n",
       "0        -37.65978       176.17058      207.999    0.2234          1   \n",
       "1        -37.66371       176.16962      188.001    0.2331          1   \n",
       "2        -37.66428       176.17333      267.998    0.4130          1   \n",
       "3        -37.66344       176.17103      137.003    0.1804          1   \n",
       "4        -37.66219       176.16977      254.001    0.5292          1   \n",
       "\n",
       "     Weight (Tons)  \n",
       "Sno                 \n",
       "0               36  \n",
       "1               27  \n",
       "2               37  \n",
       "3               37  \n",
       "4               38  "
      ]
     },
     "execution_count": 3,
     "metadata": {},
     "output_type": "execute_result"
    }
   ],
   "source": [
    "df.head()"
   ]
  },
  {
   "cell_type": "code",
   "execution_count": 4,
   "metadata": {
    "execution": {
     "iopub.execute_input": "2022-07-18T05:34:37.283646Z",
     "iopub.status.busy": "2022-07-18T05:34:37.282645Z",
     "iopub.status.idle": "2022-07-18T05:34:38.060365Z",
     "shell.execute_reply": "2022-07-18T05:34:38.057363Z",
     "shell.execute_reply.started": "2022-07-18T05:34:37.283646Z"
    }
   },
   "outputs": [],
   "source": [
    "def distCalc(df):\n",
    "    dist=[]\n",
    "    for i in range(df.shape[0]):\n",
    "        point1=(df.loc[i,'start_latitude'],df.loc[i,'start_longitude'])\n",
    "        point2=(df.loc[i,'stop_latitude'],df.loc[i,'stop_longitude'])\n",
    "        dist.append(round(distance.distance(point1, point2).km,4))\n",
    "    return dist"
   ]
  },
  {
   "cell_type": "code",
   "execution_count": 5,
   "metadata": {
    "execution": {
     "iopub.execute_input": "2022-07-18T05:34:38.064640Z",
     "iopub.status.busy": "2022-07-18T05:34:38.063365Z",
     "iopub.status.idle": "2022-07-18T05:34:43.049788Z",
     "shell.execute_reply": "2022-07-18T05:34:43.048699Z",
     "shell.execute_reply.started": "2022-07-18T05:34:38.064640Z"
    }
   },
   "outputs": [],
   "source": [
    "df['distance']=distCalc(df)"
   ]
  },
  {
   "cell_type": "code",
   "execution_count": 4,
   "metadata": {
    "execution": {
     "iopub.execute_input": "2022-07-23T09:54:37.396573Z",
     "iopub.status.busy": "2022-07-23T09:54:37.394656Z",
     "iopub.status.idle": "2022-07-23T09:54:37.497564Z",
     "shell.execute_reply": "2022-07-23T09:54:37.495567Z",
     "shell.execute_reply.started": "2022-07-23T09:54:37.396573Z"
    }
   },
   "outputs": [
    {
     "data": {
      "text/html": [
       "<div>\n",
       "<style scoped>\n",
       "    .dataframe tbody tr th:only-of-type {\n",
       "        vertical-align: middle;\n",
       "    }\n",
       "\n",
       "    .dataframe tbody tr th {\n",
       "        vertical-align: top;\n",
       "    }\n",
       "\n",
       "    .dataframe thead th {\n",
       "        text-align: right;\n",
       "    }\n",
       "</style>\n",
       "<table border=\"1\" class=\"dataframe\">\n",
       "  <thead>\n",
       "    <tr style=\"text-align: right;\">\n",
       "      <th></th>\n",
       "      <th>Sno</th>\n",
       "      <th>machine_id</th>\n",
       "      <th>event_id</th>\n",
       "      <th>events_name1</th>\n",
       "      <th>StartDate</th>\n",
       "      <th>start</th>\n",
       "      <th>start_latitude</th>\n",
       "      <th>start_longitude</th>\n",
       "      <th>events_name2</th>\n",
       "      <th>stop</th>\n",
       "      <th>stop_latitude</th>\n",
       "      <th>stop_longitude</th>\n",
       "      <th>Elapsed_Sec</th>\n",
       "      <th>distance</th>\n",
       "      <th>ItemCount</th>\n",
       "      <th>Weight (Tons)</th>\n",
       "    </tr>\n",
       "  </thead>\n",
       "  <tbody>\n",
       "    <tr>\n",
       "      <th>0</th>\n",
       "      <td>0</td>\n",
       "      <td>QC001</td>\n",
       "      <td>930</td>\n",
       "      <td>PICK</td>\n",
       "      <td>2021-03-01</td>\n",
       "      <td>2021-03-01 00:09:17.737</td>\n",
       "      <td>-37.66171</td>\n",
       "      <td>176.16986</td>\n",
       "      <td>PLACE</td>\n",
       "      <td>2021-03-01 00:12:45.736000</td>\n",
       "      <td>-37.65978</td>\n",
       "      <td>176.17058</td>\n",
       "      <td>207.999</td>\n",
       "      <td>0.2234</td>\n",
       "      <td>1</td>\n",
       "      <td>36</td>\n",
       "    </tr>\n",
       "    <tr>\n",
       "      <th>1</th>\n",
       "      <td>1</td>\n",
       "      <td>QC001</td>\n",
       "      <td>931</td>\n",
       "      <td>PICK</td>\n",
       "      <td>2021-03-01</td>\n",
       "      <td>2021-03-01 00:19:28.734</td>\n",
       "      <td>-37.66162</td>\n",
       "      <td>176.16988</td>\n",
       "      <td>PLACE</td>\n",
       "      <td>2021-03-01 00:22:36.735000</td>\n",
       "      <td>-37.66371</td>\n",
       "      <td>176.16962</td>\n",
       "      <td>188.001</td>\n",
       "      <td>0.2331</td>\n",
       "      <td>1</td>\n",
       "      <td>27</td>\n",
       "    </tr>\n",
       "    <tr>\n",
       "      <th>2</th>\n",
       "      <td>2</td>\n",
       "      <td>QC001</td>\n",
       "      <td>932</td>\n",
       "      <td>PICK</td>\n",
       "      <td>2021-03-01</td>\n",
       "      <td>2021-03-01 00:27:40.736</td>\n",
       "      <td>-37.66180</td>\n",
       "      <td>176.16984</td>\n",
       "      <td>PLACE</td>\n",
       "      <td>2021-03-01 00:32:08.734001</td>\n",
       "      <td>-37.66428</td>\n",
       "      <td>176.17333</td>\n",
       "      <td>267.998</td>\n",
       "      <td>0.4130</td>\n",
       "      <td>1</td>\n",
       "      <td>37</td>\n",
       "    </tr>\n",
       "    <tr>\n",
       "      <th>3</th>\n",
       "      <td>3</td>\n",
       "      <td>QC001</td>\n",
       "      <td>933</td>\n",
       "      <td>PICK</td>\n",
       "      <td>2021-03-01</td>\n",
       "      <td>2021-03-01 00:36:53.733</td>\n",
       "      <td>-37.66216</td>\n",
       "      <td>176.16977</td>\n",
       "      <td>PLACE</td>\n",
       "      <td>2021-03-01 00:39:10.736000</td>\n",
       "      <td>-37.66344</td>\n",
       "      <td>176.17103</td>\n",
       "      <td>137.003</td>\n",
       "      <td>0.1804</td>\n",
       "      <td>1</td>\n",
       "      <td>37</td>\n",
       "    </tr>\n",
       "    <tr>\n",
       "      <th>4</th>\n",
       "      <td>4</td>\n",
       "      <td>QC001</td>\n",
       "      <td>934</td>\n",
       "      <td>PICK</td>\n",
       "      <td>2021-03-01</td>\n",
       "      <td>2021-03-01 00:42:01.736</td>\n",
       "      <td>-37.66665</td>\n",
       "      <td>176.17189</td>\n",
       "      <td>PLACE</td>\n",
       "      <td>2021-03-01 00:46:15.737000</td>\n",
       "      <td>-37.66219</td>\n",
       "      <td>176.16977</td>\n",
       "      <td>254.001</td>\n",
       "      <td>0.5292</td>\n",
       "      <td>1</td>\n",
       "      <td>38</td>\n",
       "    </tr>\n",
       "  </tbody>\n",
       "</table>\n",
       "</div>"
      ],
      "text/plain": [
       "   Sno machine_id  event_id events_name1  StartDate                   start  \\\n",
       "0    0      QC001       930         PICK 2021-03-01 2021-03-01 00:09:17.737   \n",
       "1    1      QC001       931         PICK 2021-03-01 2021-03-01 00:19:28.734   \n",
       "2    2      QC001       932         PICK 2021-03-01 2021-03-01 00:27:40.736   \n",
       "3    3      QC001       933         PICK 2021-03-01 2021-03-01 00:36:53.733   \n",
       "4    4      QC001       934         PICK 2021-03-01 2021-03-01 00:42:01.736   \n",
       "\n",
       "   start_latitude  start_longitude events_name2                       stop  \\\n",
       "0       -37.66171        176.16986        PLACE 2021-03-01 00:12:45.736000   \n",
       "1       -37.66162        176.16988        PLACE 2021-03-01 00:22:36.735000   \n",
       "2       -37.66180        176.16984        PLACE 2021-03-01 00:32:08.734001   \n",
       "3       -37.66216        176.16977        PLACE 2021-03-01 00:39:10.736000   \n",
       "4       -37.66665        176.17189        PLACE 2021-03-01 00:46:15.737000   \n",
       "\n",
       "   stop_latitude  stop_longitude  Elapsed_Sec  distance  ItemCount  \\\n",
       "0      -37.65978       176.17058      207.999    0.2234          1   \n",
       "1      -37.66371       176.16962      188.001    0.2331          1   \n",
       "2      -37.66428       176.17333      267.998    0.4130          1   \n",
       "3      -37.66344       176.17103      137.003    0.1804          1   \n",
       "4      -37.66219       176.16977      254.001    0.5292          1   \n",
       "\n",
       "   Weight (Tons)  \n",
       "0             36  \n",
       "1             27  \n",
       "2             37  \n",
       "3             37  \n",
       "4             38  "
      ]
     },
     "execution_count": 4,
     "metadata": {},
     "output_type": "execute_result"
    }
   ],
   "source": [
    "df.head()"
   ]
  },
  {
   "cell_type": "code",
   "execution_count": 7,
   "metadata": {
    "execution": {
     "iopub.execute_input": "2022-07-18T05:34:43.118695Z",
     "iopub.status.busy": "2022-07-18T05:34:43.118695Z",
     "iopub.status.idle": "2022-07-18T05:34:43.397900Z",
     "shell.execute_reply": "2022-07-18T05:34:43.393703Z",
     "shell.execute_reply.started": "2022-07-18T05:34:43.118695Z"
    }
   },
   "outputs": [],
   "source": [
    "loc1=(-37.66171\t, 176.16986)\n",
    "loc2=(-37.65978, 176.17058)"
   ]
  },
  {
   "cell_type": "code",
   "execution_count": 8,
   "metadata": {
    "execution": {
     "iopub.execute_input": "2022-07-18T05:34:43.404330Z",
     "iopub.status.busy": "2022-07-18T05:34:43.402704Z",
     "iopub.status.idle": "2022-07-18T05:34:43.952941Z",
     "shell.execute_reply": "2022-07-18T05:34:43.950941Z",
     "shell.execute_reply.started": "2022-07-18T05:34:43.404330Z"
    }
   },
   "outputs": [
    {
     "name": "stdout",
     "output_type": "stream",
     "text": [
      "0.2234329606792288\n"
     ]
    }
   ],
   "source": [
    "print(distance.distance(loc1, loc2).km)"
   ]
  },
  {
   "cell_type": "code",
   "execution_count": 48,
   "metadata": {
    "execution": {
     "iopub.execute_input": "2022-07-23T10:17:11.488527Z",
     "iopub.status.busy": "2022-07-23T10:17:11.487525Z",
     "iopub.status.idle": "2022-07-23T10:17:18.031373Z",
     "shell.execute_reply": "2022-07-23T10:17:18.029374Z",
     "shell.execute_reply.started": "2022-07-23T10:17:11.488527Z"
    }
   },
   "outputs": [],
   "source": [
    "df.to_excel('mph_output.xlsx',index=0)"
   ]
  },
  {
   "cell_type": "code",
   "execution_count": 49,
   "metadata": {
    "execution": {
     "iopub.execute_input": "2022-07-23T10:17:18.035366Z",
     "iopub.status.busy": "2022-07-23T10:17:18.035078Z",
     "iopub.status.idle": "2022-07-23T10:17:18.079366Z",
     "shell.execute_reply": "2022-07-23T10:17:18.078386Z",
     "shell.execute_reply.started": "2022-07-23T10:17:18.035366Z"
    }
   },
   "outputs": [
    {
     "data": {
      "text/html": [
       "<div>\n",
       "<style scoped>\n",
       "    .dataframe tbody tr th:only-of-type {\n",
       "        vertical-align: middle;\n",
       "    }\n",
       "\n",
       "    .dataframe tbody tr th {\n",
       "        vertical-align: top;\n",
       "    }\n",
       "\n",
       "    .dataframe thead th {\n",
       "        text-align: right;\n",
       "    }\n",
       "</style>\n",
       "<table border=\"1\" class=\"dataframe\">\n",
       "  <thead>\n",
       "    <tr style=\"text-align: right;\">\n",
       "      <th></th>\n",
       "      <th>Sno</th>\n",
       "      <th>machine_id</th>\n",
       "      <th>event_id</th>\n",
       "      <th>events_name1</th>\n",
       "      <th>StartDate</th>\n",
       "      <th>start</th>\n",
       "      <th>start_latitude</th>\n",
       "      <th>start_longitude</th>\n",
       "      <th>events_name2</th>\n",
       "      <th>stop</th>\n",
       "      <th>stop_latitude</th>\n",
       "      <th>stop_longitude</th>\n",
       "      <th>Elapsed_Sec</th>\n",
       "      <th>distance</th>\n",
       "      <th>ItemCount</th>\n",
       "      <th>Weight (Tons)</th>\n",
       "    </tr>\n",
       "  </thead>\n",
       "  <tbody>\n",
       "    <tr>\n",
       "      <th>0</th>\n",
       "      <td>0</td>\n",
       "      <td>QC001</td>\n",
       "      <td>930</td>\n",
       "      <td>PICK</td>\n",
       "      <td>2021-03-01</td>\n",
       "      <td>2021-03-01 00:09:17.737</td>\n",
       "      <td>-37.66171</td>\n",
       "      <td>176.16986</td>\n",
       "      <td>PLACE</td>\n",
       "      <td>2021-03-01 00:12:45.736000</td>\n",
       "      <td>-37.65978</td>\n",
       "      <td>176.17058</td>\n",
       "      <td>207.999</td>\n",
       "      <td>0.2234</td>\n",
       "      <td>1</td>\n",
       "      <td>36</td>\n",
       "    </tr>\n",
       "    <tr>\n",
       "      <th>1</th>\n",
       "      <td>1</td>\n",
       "      <td>QC001</td>\n",
       "      <td>931</td>\n",
       "      <td>PICK</td>\n",
       "      <td>2021-03-01</td>\n",
       "      <td>2021-03-01 00:19:28.734</td>\n",
       "      <td>-37.66162</td>\n",
       "      <td>176.16988</td>\n",
       "      <td>PLACE</td>\n",
       "      <td>2021-03-01 00:22:36.735000</td>\n",
       "      <td>-37.66371</td>\n",
       "      <td>176.16962</td>\n",
       "      <td>188.001</td>\n",
       "      <td>0.2331</td>\n",
       "      <td>1</td>\n",
       "      <td>27</td>\n",
       "    </tr>\n",
       "    <tr>\n",
       "      <th>2</th>\n",
       "      <td>2</td>\n",
       "      <td>QC001</td>\n",
       "      <td>932</td>\n",
       "      <td>PICK</td>\n",
       "      <td>2021-03-01</td>\n",
       "      <td>2021-03-01 00:27:40.736</td>\n",
       "      <td>-37.66180</td>\n",
       "      <td>176.16984</td>\n",
       "      <td>PLACE</td>\n",
       "      <td>2021-03-01 00:32:08.734001</td>\n",
       "      <td>-37.66428</td>\n",
       "      <td>176.17333</td>\n",
       "      <td>267.998</td>\n",
       "      <td>0.4130</td>\n",
       "      <td>1</td>\n",
       "      <td>37</td>\n",
       "    </tr>\n",
       "    <tr>\n",
       "      <th>3</th>\n",
       "      <td>3</td>\n",
       "      <td>QC001</td>\n",
       "      <td>933</td>\n",
       "      <td>PICK</td>\n",
       "      <td>2021-03-01</td>\n",
       "      <td>2021-03-01 00:36:53.733</td>\n",
       "      <td>-37.66216</td>\n",
       "      <td>176.16977</td>\n",
       "      <td>PLACE</td>\n",
       "      <td>2021-03-01 00:39:10.736000</td>\n",
       "      <td>-37.66344</td>\n",
       "      <td>176.17103</td>\n",
       "      <td>137.003</td>\n",
       "      <td>0.1804</td>\n",
       "      <td>1</td>\n",
       "      <td>37</td>\n",
       "    </tr>\n",
       "    <tr>\n",
       "      <th>4</th>\n",
       "      <td>4</td>\n",
       "      <td>QC001</td>\n",
       "      <td>934</td>\n",
       "      <td>PICK</td>\n",
       "      <td>2021-03-01</td>\n",
       "      <td>2021-03-01 00:42:01.736</td>\n",
       "      <td>-37.66665</td>\n",
       "      <td>176.17189</td>\n",
       "      <td>PLACE</td>\n",
       "      <td>2021-03-01 00:46:15.737000</td>\n",
       "      <td>-37.66219</td>\n",
       "      <td>176.16977</td>\n",
       "      <td>254.001</td>\n",
       "      <td>0.5292</td>\n",
       "      <td>1</td>\n",
       "      <td>38</td>\n",
       "    </tr>\n",
       "  </tbody>\n",
       "</table>\n",
       "</div>"
      ],
      "text/plain": [
       "   Sno machine_id  event_id events_name1  StartDate                   start  \\\n",
       "0    0      QC001       930         PICK 2021-03-01 2021-03-01 00:09:17.737   \n",
       "1    1      QC001       931         PICK 2021-03-01 2021-03-01 00:19:28.734   \n",
       "2    2      QC001       932         PICK 2021-03-01 2021-03-01 00:27:40.736   \n",
       "3    3      QC001       933         PICK 2021-03-01 2021-03-01 00:36:53.733   \n",
       "4    4      QC001       934         PICK 2021-03-01 2021-03-01 00:42:01.736   \n",
       "\n",
       "   start_latitude  start_longitude events_name2                       stop  \\\n",
       "0       -37.66171        176.16986        PLACE 2021-03-01 00:12:45.736000   \n",
       "1       -37.66162        176.16988        PLACE 2021-03-01 00:22:36.735000   \n",
       "2       -37.66180        176.16984        PLACE 2021-03-01 00:32:08.734001   \n",
       "3       -37.66216        176.16977        PLACE 2021-03-01 00:39:10.736000   \n",
       "4       -37.66665        176.17189        PLACE 2021-03-01 00:46:15.737000   \n",
       "\n",
       "   stop_latitude  stop_longitude  Elapsed_Sec  distance  ItemCount  \\\n",
       "0      -37.65978       176.17058      207.999    0.2234          1   \n",
       "1      -37.66371       176.16962      188.001    0.2331          1   \n",
       "2      -37.66428       176.17333      267.998    0.4130          1   \n",
       "3      -37.66344       176.17103      137.003    0.1804          1   \n",
       "4      -37.66219       176.16977      254.001    0.5292          1   \n",
       "\n",
       "   Weight (Tons)  \n",
       "0             36  \n",
       "1             27  \n",
       "2             37  \n",
       "3             37  \n",
       "4             38  "
      ]
     },
     "execution_count": 49,
     "metadata": {},
     "output_type": "execute_result"
    }
   ],
   "source": [
    "df.head()"
   ]
  },
  {
   "cell_type": "code",
   "execution_count": 5,
   "metadata": {
    "execution": {
     "iopub.execute_input": "2022-07-23T09:55:37.384498Z",
     "iopub.status.busy": "2022-07-23T09:55:37.384498Z",
     "iopub.status.idle": "2022-07-23T09:55:38.558747Z",
     "shell.execute_reply": "2022-07-23T09:55:38.557746Z",
     "shell.execute_reply.started": "2022-07-23T09:55:37.384498Z"
    }
   },
   "outputs": [],
   "source": [
    "df1=df.groupby(['machine_id','StartDate'])[['Elapsed_Sec',\t'distance',\t'ItemCount',\t'Weight (Tons)']].sum()\n",
    "df_pivot=df1.pivot_table(index='StartDate',columns='machine_id',values=['Elapsed_Sec','distance',\t'ItemCount',\t'Weight (Tons)'])\n",
    "features=set([i[0] for i in df_pivot.columns.values.tolist()])\n",
    "for i in features:\n",
    "    data=[]\n",
    "    for j in df_pivot.index:\n",
    "        data.append(df_pivot.loc[j,(i,slice(None))].sum())\n",
    "    df_pivot['Total_'+i]=data"
   ]
  },
  {
   "cell_type": "code",
   "execution_count": 6,
   "metadata": {
    "execution": {
     "iopub.execute_input": "2022-07-23T09:55:38.562749Z",
     "iopub.status.busy": "2022-07-23T09:55:38.562009Z",
     "iopub.status.idle": "2022-07-23T09:55:38.621837Z",
     "shell.execute_reply": "2022-07-23T09:55:38.619843Z",
     "shell.execute_reply.started": "2022-07-23T09:55:38.562749Z"
    }
   },
   "outputs": [
    {
     "data": {
      "text/html": [
       "<div>\n",
       "<style scoped>\n",
       "    .dataframe tbody tr th:only-of-type {\n",
       "        vertical-align: middle;\n",
       "    }\n",
       "\n",
       "    .dataframe tbody tr th {\n",
       "        vertical-align: top;\n",
       "    }\n",
       "\n",
       "    .dataframe thead tr th {\n",
       "        text-align: left;\n",
       "    }\n",
       "\n",
       "    .dataframe thead tr:last-of-type th {\n",
       "        text-align: right;\n",
       "    }\n",
       "</style>\n",
       "<table border=\"1\" class=\"dataframe\">\n",
       "  <thead>\n",
       "    <tr>\n",
       "      <th></th>\n",
       "      <th colspan=\"2\" halign=\"left\">Elapsed_Sec</th>\n",
       "      <th colspan=\"2\" halign=\"left\">ItemCount</th>\n",
       "      <th colspan=\"2\" halign=\"left\">Weight (Tons)</th>\n",
       "      <th colspan=\"2\" halign=\"left\">distance</th>\n",
       "      <th>Total_Elapsed_Sec</th>\n",
       "      <th>Total_ItemCount</th>\n",
       "      <th>Total_Weight (Tons)</th>\n",
       "      <th>Total_distance</th>\n",
       "    </tr>\n",
       "    <tr>\n",
       "      <th>machine_id</th>\n",
       "      <th>QC001</th>\n",
       "      <th>QC002</th>\n",
       "      <th>QC001</th>\n",
       "      <th>QC002</th>\n",
       "      <th>QC001</th>\n",
       "      <th>QC002</th>\n",
       "      <th>QC001</th>\n",
       "      <th>QC002</th>\n",
       "      <th></th>\n",
       "      <th></th>\n",
       "      <th></th>\n",
       "      <th></th>\n",
       "    </tr>\n",
       "    <tr>\n",
       "      <th>StartDate</th>\n",
       "      <th></th>\n",
       "      <th></th>\n",
       "      <th></th>\n",
       "      <th></th>\n",
       "      <th></th>\n",
       "      <th></th>\n",
       "      <th></th>\n",
       "      <th></th>\n",
       "      <th></th>\n",
       "      <th></th>\n",
       "      <th></th>\n",
       "      <th></th>\n",
       "    </tr>\n",
       "  </thead>\n",
       "  <tbody>\n",
       "    <tr>\n",
       "      <th>2021-03-01</th>\n",
       "      <td>3.272300e+04</td>\n",
       "      <td>1.914408e+08</td>\n",
       "      <td>230</td>\n",
       "      <td>674</td>\n",
       "      <td>6876</td>\n",
       "      <td>20171</td>\n",
       "      <td>59.6796</td>\n",
       "      <td>198.9679</td>\n",
       "      <td>1.914735e+08</td>\n",
       "      <td>904.0</td>\n",
       "      <td>27047.0</td>\n",
       "      <td>258.6475</td>\n",
       "    </tr>\n",
       "    <tr>\n",
       "      <th>2021-03-02</th>\n",
       "      <td>3.277304e+04</td>\n",
       "      <td>1.723344e+08</td>\n",
       "      <td>228</td>\n",
       "      <td>886</td>\n",
       "      <td>6849</td>\n",
       "      <td>26427</td>\n",
       "      <td>56.7465</td>\n",
       "      <td>250.4447</td>\n",
       "      <td>1.723671e+08</td>\n",
       "      <td>1114.0</td>\n",
       "      <td>33276.0</td>\n",
       "      <td>307.1912</td>\n",
       "    </tr>\n",
       "    <tr>\n",
       "      <th>2021-03-03</th>\n",
       "      <td>3.164925e+07</td>\n",
       "      <td>8.924499e+07</td>\n",
       "      <td>373</td>\n",
       "      <td>818</td>\n",
       "      <td>11153</td>\n",
       "      <td>24818</td>\n",
       "      <td>92.9348</td>\n",
       "      <td>231.6143</td>\n",
       "      <td>1.208942e+08</td>\n",
       "      <td>1191.0</td>\n",
       "      <td>35971.0</td>\n",
       "      <td>324.5491</td>\n",
       "    </tr>\n",
       "    <tr>\n",
       "      <th>2021-03-04</th>\n",
       "      <td>1.912466e+07</td>\n",
       "      <td>4.738277e+06</td>\n",
       "      <td>410</td>\n",
       "      <td>160</td>\n",
       "      <td>12459</td>\n",
       "      <td>4840</td>\n",
       "      <td>108.0018</td>\n",
       "      <td>38.6769</td>\n",
       "      <td>2.386293e+07</td>\n",
       "      <td>570.0</td>\n",
       "      <td>17299.0</td>\n",
       "      <td>146.6787</td>\n",
       "    </tr>\n",
       "    <tr>\n",
       "      <th>2021-03-05</th>\n",
       "      <td>3.517800e+04</td>\n",
       "      <td>-5.521474e+07</td>\n",
       "      <td>198</td>\n",
       "      <td>839</td>\n",
       "      <td>5902</td>\n",
       "      <td>25020</td>\n",
       "      <td>49.6931</td>\n",
       "      <td>245.8188</td>\n",
       "      <td>-5.517956e+07</td>\n",
       "      <td>1037.0</td>\n",
       "      <td>30922.0</td>\n",
       "      <td>295.5119</td>\n",
       "    </tr>\n",
       "    <tr>\n",
       "      <th>2021-03-06</th>\n",
       "      <td>3.081696e+04</td>\n",
       "      <td>-8.000233e+07</td>\n",
       "      <td>186</td>\n",
       "      <td>608</td>\n",
       "      <td>5500</td>\n",
       "      <td>18131</td>\n",
       "      <td>54.0376</td>\n",
       "      <td>195.5733</td>\n",
       "      <td>-7.997151e+07</td>\n",
       "      <td>794.0</td>\n",
       "      <td>23631.0</td>\n",
       "      <td>249.6109</td>\n",
       "    </tr>\n",
       "    <tr>\n",
       "      <th>2021-03-07</th>\n",
       "      <td>2.432702e+04</td>\n",
       "      <td>-1.790934e+08</td>\n",
       "      <td>162</td>\n",
       "      <td>769</td>\n",
       "      <td>4919</td>\n",
       "      <td>23092</td>\n",
       "      <td>31.4788</td>\n",
       "      <td>234.4265</td>\n",
       "      <td>-1.790691e+08</td>\n",
       "      <td>931.0</td>\n",
       "      <td>28011.0</td>\n",
       "      <td>265.9053</td>\n",
       "    </tr>\n",
       "    <tr>\n",
       "      <th>2021-03-08</th>\n",
       "      <td>-4.921109e+07</td>\n",
       "      <td>-1.452969e+08</td>\n",
       "      <td>210</td>\n",
       "      <td>512</td>\n",
       "      <td>6250</td>\n",
       "      <td>15366</td>\n",
       "      <td>56.6172</td>\n",
       "      <td>161.4342</td>\n",
       "      <td>-1.945080e+08</td>\n",
       "      <td>722.0</td>\n",
       "      <td>21616.0</td>\n",
       "      <td>218.0514</td>\n",
       "    </tr>\n",
       "  </tbody>\n",
       "</table>\n",
       "</div>"
      ],
      "text/plain": [
       "             Elapsed_Sec               ItemCount       Weight (Tons)         \\\n",
       "machine_id         QC001         QC002     QC001 QC002         QC001  QC002   \n",
       "StartDate                                                                     \n",
       "2021-03-01  3.272300e+04  1.914408e+08       230   674          6876  20171   \n",
       "2021-03-02  3.277304e+04  1.723344e+08       228   886          6849  26427   \n",
       "2021-03-03  3.164925e+07  8.924499e+07       373   818         11153  24818   \n",
       "2021-03-04  1.912466e+07  4.738277e+06       410   160         12459   4840   \n",
       "2021-03-05  3.517800e+04 -5.521474e+07       198   839          5902  25020   \n",
       "2021-03-06  3.081696e+04 -8.000233e+07       186   608          5500  18131   \n",
       "2021-03-07  2.432702e+04 -1.790934e+08       162   769          4919  23092   \n",
       "2021-03-08 -4.921109e+07 -1.452969e+08       210   512          6250  15366   \n",
       "\n",
       "            distance           Total_Elapsed_Sec Total_ItemCount  \\\n",
       "machine_id     QC001     QC002                                     \n",
       "StartDate                                                          \n",
       "2021-03-01   59.6796  198.9679      1.914735e+08           904.0   \n",
       "2021-03-02   56.7465  250.4447      1.723671e+08          1114.0   \n",
       "2021-03-03   92.9348  231.6143      1.208942e+08          1191.0   \n",
       "2021-03-04  108.0018   38.6769      2.386293e+07           570.0   \n",
       "2021-03-05   49.6931  245.8188     -5.517956e+07          1037.0   \n",
       "2021-03-06   54.0376  195.5733     -7.997151e+07           794.0   \n",
       "2021-03-07   31.4788  234.4265     -1.790691e+08           931.0   \n",
       "2021-03-08   56.6172  161.4342     -1.945080e+08           722.0   \n",
       "\n",
       "           Total_Weight (Tons) Total_distance  \n",
       "machine_id                                     \n",
       "StartDate                                      \n",
       "2021-03-01             27047.0       258.6475  \n",
       "2021-03-02             33276.0       307.1912  \n",
       "2021-03-03             35971.0       324.5491  \n",
       "2021-03-04             17299.0       146.6787  \n",
       "2021-03-05             30922.0       295.5119  \n",
       "2021-03-06             23631.0       249.6109  \n",
       "2021-03-07             28011.0       265.9053  \n",
       "2021-03-08             21616.0       218.0514  "
      ]
     },
     "execution_count": 6,
     "metadata": {},
     "output_type": "execute_result"
    }
   ],
   "source": [
    "df_pivot"
   ]
  },
  {
   "cell_type": "code",
   "execution_count": 7,
   "metadata": {
    "execution": {
     "iopub.execute_input": "2022-07-23T09:55:40.979699Z",
     "iopub.status.busy": "2022-07-23T09:55:40.979699Z",
     "iopub.status.idle": "2022-07-23T09:56:07.297994Z",
     "shell.execute_reply": "2022-07-23T09:56:07.294004Z",
     "shell.execute_reply.started": "2022-07-23T09:55:40.979699Z"
    }
   },
   "outputs": [],
   "source": [
    "import seaborn as sns\n",
    "import matplotlib.pyplot as plt"
   ]
  },
  {
   "cell_type": "code",
   "execution_count": 8,
   "metadata": {
    "execution": {
     "iopub.execute_input": "2022-07-23T09:56:07.314131Z",
     "iopub.status.busy": "2022-07-23T09:56:07.305997Z",
     "iopub.status.idle": "2022-07-23T09:56:07.418983Z",
     "shell.execute_reply": "2022-07-23T09:56:07.417983Z",
     "shell.execute_reply.started": "2022-07-23T09:56:07.313135Z"
    }
   },
   "outputs": [],
   "source": [
    "df_pivot.reset_index(inplace=True)\n",
    "df_pivot['StartDate']=pd.to_datetime(df_pivot['StartDate'], unit='s').dt.date"
   ]
  },
  {
   "cell_type": "code",
   "execution_count": 9,
   "metadata": {
    "execution": {
     "iopub.execute_input": "2022-07-23T09:56:07.420986Z",
     "iopub.status.busy": "2022-07-23T09:56:07.420986Z",
     "iopub.status.idle": "2022-07-23T09:56:10.090008Z",
     "shell.execute_reply": "2022-07-23T09:56:10.088210Z",
     "shell.execute_reply.started": "2022-07-23T09:56:07.420986Z"
    }
   },
   "outputs": [
    {
     "data": {
      "image/png": "[encoded data removed]",
      "text/plain": [
       "<Figure size 1152x576 with 1 Axes>"
      ]
     },
     "metadata": {
      "needs_background": "light"
     },
     "output_type": "display_data"
    }
   ],
   "source": [
    "plt.figure(figsize=(16,8))\n",
    "sns.barplot(x=df_pivot['StartDate'],y=df_pivot['Total_Weight (Tons)'])\n",
    "plt.xticks(rotation=30)\n",
    "plt.savefig('Total_Weight (Tons)')"
   ]
  },
  {
   "cell_type": "code",
   "execution_count": 10,
   "metadata": {
    "execution": {
     "iopub.execute_input": "2022-07-23T09:56:10.096008Z",
     "iopub.status.busy": "2022-07-23T09:56:10.094011Z",
     "iopub.status.idle": "2022-07-23T09:56:10.528625Z",
     "shell.execute_reply": "2022-07-23T09:56:10.527005Z",
     "shell.execute_reply.started": "2022-07-23T09:56:10.096008Z"
    }
   },
   "outputs": [
    {
     "data": {
      "text/plain": [
       "(array([0, 1, 2, 3, 4, 5, 6, 7]),\n",
       " [Text(0, 0, '2021-03-01'),\n",
       "  Text(1, 0, '2021-03-02'),\n",
       "  Text(2, 0, '2021-03-03'),\n",
       "  Text(3, 0, '2021-03-04'),\n",
       "  Text(4, 0, '2021-03-05'),\n",
       "  Text(5, 0, '2021-03-06'),\n",
       "  Text(6, 0, '2021-03-07'),\n",
       "  Text(7, 0, '2021-03-08')])"
      ]
     },
     "execution_count": 10,
     "metadata": {},
     "output_type": "execute_result"
    },
    {
     "data": {
      "image/png": "[encoded data removed]",
      "text/plain": [
       "<Figure size 1152x576 with 1 Axes>"
      ]
     },
     "metadata": {
      "needs_background": "light"
     },
     "output_type": "display_data"
    }
   ],
   "source": [
    "plt.figure(figsize=(16,8))\n",
    "sns.barplot(x=df_pivot['StartDate'],y=df_pivot['Total_Elapsed_Sec'])\n",
    "plt.xticks(rotation=30)"
   ]
  },
  {
   "cell_type": "code",
   "execution_count": 11,
   "metadata": {
    "execution": {
     "iopub.execute_input": "2022-07-23T09:56:10.533008Z",
     "iopub.status.busy": "2022-07-23T09:56:10.531034Z",
     "iopub.status.idle": "2022-07-23T09:56:10.841007Z",
     "shell.execute_reply": "2022-07-23T09:56:10.839004Z",
     "shell.execute_reply.started": "2022-07-23T09:56:10.533008Z"
    }
   },
   "outputs": [
    {
     "data": {
      "text/plain": [
       "(array([0, 1, 2, 3, 4, 5, 6, 7]),\n",
       " [Text(0, 0, '2021-03-01'),\n",
       "  Text(1, 0, '2021-03-02'),\n",
       "  Text(2, 0, '2021-03-03'),\n",
       "  Text(3, 0, '2021-03-04'),\n",
       "  Text(4, 0, '2021-03-05'),\n",
       "  Text(5, 0, '2021-03-06'),\n",
       "  Text(6, 0, '2021-03-07'),\n",
       "  Text(7, 0, '2021-03-08')])"
      ]
     },
     "execution_count": 11,
     "metadata": {},
     "output_type": "execute_result"
    },
    {
     "data": {
      "image/png": "[encoded data removed]",
      "text/plain": [
       "<Figure size 1152x576 with 1 Axes>"
      ]
     },
     "metadata": {
      "needs_background": "light"
     },
     "output_type": "display_data"
    }
   ],
   "source": [
    "plt.figure(figsize=(16,8))\n",
    "sns.barplot(x=df_pivot['StartDate'],y=df_pivot['Total_ItemCount'])\n",
    "plt.xticks(rotation=30)"
   ]
  },
  {
   "cell_type": "code",
   "execution_count": 12,
   "metadata": {
    "execution": {
     "iopub.execute_input": "2022-07-23T09:56:10.843008Z",
     "iopub.status.busy": "2022-07-23T09:56:10.842007Z",
     "iopub.status.idle": "2022-07-23T09:56:11.202007Z",
     "shell.execute_reply": "2022-07-23T09:56:11.200055Z",
     "shell.execute_reply.started": "2022-07-23T09:56:10.843008Z"
    }
   },
   "outputs": [
    {
     "data": {
      "text/plain": [
       "(array([0, 1, 2, 3, 4, 5, 6, 7]),\n",
       " [Text(0, 0, '2021-03-01'),\n",
       "  Text(1, 0, '2021-03-02'),\n",
       "  Text(2, 0, '2021-03-03'),\n",
       "  Text(3, 0, '2021-03-04'),\n",
       "  Text(4, 0, '2021-03-05'),\n",
       "  Text(5, 0, '2021-03-06'),\n",
       "  Text(6, 0, '2021-03-07'),\n",
       "  Text(7, 0, '2021-03-08')])"
      ]
     },
     "execution_count": 12,
     "metadata": {},
     "output_type": "execute_result"
    },
    {
     "data": {
      "image/png": "[encoded data removed]",
      "text/plain": [
       "<Figure size 720x576 with 1 Axes>"
      ]
     },
     "metadata": {
      "needs_background": "light"
     },
     "output_type": "display_data"
    }
   ],
   "source": [
    "plt.figure(figsize=(10,8))\n",
    "sns.barplot(x=df_pivot['StartDate'],y=df_pivot['Total_distance'])\n",
    "plt.xticks(rotation=30)"
   ]
  },
  {
   "cell_type": "code",
   "execution_count": 37,
   "metadata": {
    "execution": {
     "iopub.execute_input": "2022-07-23T10:08:42.726187Z",
     "iopub.status.busy": "2022-07-23T10:08:42.725183Z",
     "iopub.status.idle": "2022-07-23T10:08:42.997361Z",
     "shell.execute_reply": "2022-07-23T10:08:42.996363Z",
     "shell.execute_reply.started": "2022-07-23T10:08:42.726187Z"
    }
   },
   "outputs": [],
   "source": [
    "df=df_pivot.copy()\n",
    "hover_text = {}\n",
    "fields = ['Total_Weight (Tons)', 'Total_Elapsed_Sec', 'Total_ItemCount', 'Total_distance']\n",
    "for i in fields:\n",
    "    txt=[]\n",
    "    for j in range(df[i].shape[0]-1):\n",
    "        \n",
    "        val=(df[i][j+1]-df[i][j])/df[i][j]\n",
    "        if val>0.40:\n",
    "            txt.append(f'From {df[\"StartDate\"][j]} to {df[\"StartDate\"][j+1]} it increased {round(val*100,2)} %')\n",
    "        if val<-0.40:    \n",
    "            txt.append(f'From {df[\"StartDate\"][j]} to {df[\"StartDate\"][j+1]} it decreased {round(val*100,2)} %')\n",
    "    hover_text[i]=txt"
   ]
  },
  {
   "cell_type": "code",
   "execution_count": 41,
   "metadata": {
    "execution": {
     "iopub.execute_input": "2022-07-23T10:10:57.017494Z",
     "iopub.status.busy": "2022-07-23T10:10:57.016785Z",
     "iopub.status.idle": "2022-07-23T10:10:57.034572Z",
     "shell.execute_reply": "2022-07-23T10:10:57.033528Z",
     "shell.execute_reply.started": "2022-07-23T10:10:57.017494Z"
    }
   },
   "outputs": [
    {
     "data": {
      "text/plain": [
       "1.0146885675970676"
      ]
     },
     "execution_count": 41,
     "metadata": {},
     "output_type": "execute_result"
    }
   ],
   "source": [
    "(df[\"Total_distance\"][4]-df[\"Total_distance\"][3])/df[\"Total_distance\"][3]"
   ]
  },
  {
   "cell_type": "code",
   "execution_count": 42,
   "metadata": {
    "execution": {
     "iopub.execute_input": "2022-07-23T10:11:40.586142Z",
     "iopub.status.busy": "2022-07-23T10:11:40.586142Z",
     "iopub.status.idle": "2022-07-23T10:11:40.599136Z",
     "shell.execute_reply": "2022-07-23T10:11:40.598241Z",
     "shell.execute_reply.started": "2022-07-23T10:11:40.586142Z"
    }
   },
   "outputs": [
    {
     "data": {
      "text/plain": [
       "{'Total_Weight (Tons)': ['From 2021-03-03 to 2021-03-04 it decreased -51.91 %',\n",
       "  'From 2021-03-04 to 2021-03-05 it increased 78.75 %'],\n",
       " 'Total_Elapsed_Sec': ['From 2021-03-03 to 2021-03-04 it decreased -80.26 %',\n",
       "  'From 2021-03-04 to 2021-03-05 it decreased -331.24 %',\n",
       "  'From 2021-03-05 to 2021-03-06 it increased 44.93 %',\n",
       "  'From 2021-03-06 to 2021-03-07 it increased 123.92 %'],\n",
       " 'Total_ItemCount': ['From 2021-03-03 to 2021-03-04 it decreased -52.14 %',\n",
       "  'From 2021-03-04 to 2021-03-05 it increased 81.93 %'],\n",
       " 'Total_distance': ['From 2021-03-03 to 2021-03-04 it decreased -54.81 %',\n",
       "  'From 2021-03-04 to 2021-03-05 it increased 101.47 %']}"
      ]
     },
     "execution_count": 42,
     "metadata": {},
     "output_type": "execute_result"
    }
   ],
   "source": [
    "hover_text"
   ]
  },
  {
   "cell_type": "code",
   "execution_count": null,
   "metadata": {},
   "outputs": [],
   "source": []
  },
  {
   "cell_type": "code",
   "execution_count": 53,
   "metadata": {
    "execution": {
     "iopub.execute_input": "2022-07-23T10:18:02.999702Z",
     "iopub.status.busy": "2022-07-23T10:18:02.999702Z",
     "iopub.status.idle": "2022-07-23T10:18:03.026700Z",
     "shell.execute_reply": "2022-07-23T10:18:03.025704Z",
     "shell.execute_reply.started": "2022-07-23T10:18:02.999702Z"
    }
   },
   "outputs": [
    {
     "data": {
      "text/html": [
       "<div>\n",
       "<style scoped>\n",
       "    .dataframe tbody tr th:only-of-type {\n",
       "        vertical-align: middle;\n",
       "    }\n",
       "\n",
       "    .dataframe tbody tr th {\n",
       "        vertical-align: top;\n",
       "    }\n",
       "\n",
       "    .dataframe thead th {\n",
       "        text-align: right;\n",
       "    }\n",
       "</style>\n",
       "<table border=\"1\" class=\"dataframe\">\n",
       "  <thead>\n",
       "    <tr style=\"text-align: right;\">\n",
       "      <th></th>\n",
       "      <th>machine_id</th>\n",
       "      <th>event_id</th>\n",
       "      <th>events_name1</th>\n",
       "      <th>StartDate</th>\n",
       "      <th>start</th>\n",
       "      <th>start_latitude</th>\n",
       "      <th>start_longitude</th>\n",
       "      <th>events_name2</th>\n",
       "      <th>stop</th>\n",
       "      <th>stop_latitude</th>\n",
       "      <th>stop_longitude</th>\n",
       "      <th>Elapsed_Sec</th>\n",
       "      <th>distance</th>\n",
       "      <th>ItemCount</th>\n",
       "      <th>Weight (Tons)</th>\n",
       "    </tr>\n",
       "    <tr>\n",
       "      <th>Sno</th>\n",
       "      <th></th>\n",
       "      <th></th>\n",
       "      <th></th>\n",
       "      <th></th>\n",
       "      <th></th>\n",
       "      <th></th>\n",
       "      <th></th>\n",
       "      <th></th>\n",
       "      <th></th>\n",
       "      <th></th>\n",
       "      <th></th>\n",
       "      <th></th>\n",
       "      <th></th>\n",
       "      <th></th>\n",
       "      <th></th>\n",
       "    </tr>\n",
       "  </thead>\n",
       "  <tbody>\n",
       "    <tr>\n",
       "      <th>0</th>\n",
       "      <td>QC001</td>\n",
       "      <td>930</td>\n",
       "      <td>PICK</td>\n",
       "      <td>2021-03-01</td>\n",
       "      <td>2021-03-01 00:09:17.737</td>\n",
       "      <td>-37.66171</td>\n",
       "      <td>176.16986</td>\n",
       "      <td>PLACE</td>\n",
       "      <td>2021-03-01 00:12:45.736000</td>\n",
       "      <td>-37.65978</td>\n",
       "      <td>176.17058</td>\n",
       "      <td>207.999</td>\n",
       "      <td>0.2234</td>\n",
       "      <td>1</td>\n",
       "      <td>36</td>\n",
       "    </tr>\n",
       "    <tr>\n",
       "      <th>1</th>\n",
       "      <td>QC001</td>\n",
       "      <td>931</td>\n",
       "      <td>PICK</td>\n",
       "      <td>2021-03-01</td>\n",
       "      <td>2021-03-01 00:19:28.734</td>\n",
       "      <td>-37.66162</td>\n",
       "      <td>176.16988</td>\n",
       "      <td>PLACE</td>\n",
       "      <td>2021-03-01 00:22:36.735000</td>\n",
       "      <td>-37.66371</td>\n",
       "      <td>176.16962</td>\n",
       "      <td>188.001</td>\n",
       "      <td>0.2331</td>\n",
       "      <td>1</td>\n",
       "      <td>27</td>\n",
       "    </tr>\n",
       "    <tr>\n",
       "      <th>2</th>\n",
       "      <td>QC001</td>\n",
       "      <td>932</td>\n",
       "      <td>PICK</td>\n",
       "      <td>2021-03-01</td>\n",
       "      <td>2021-03-01 00:27:40.736</td>\n",
       "      <td>-37.66180</td>\n",
       "      <td>176.16984</td>\n",
       "      <td>PLACE</td>\n",
       "      <td>2021-03-01 00:32:08.734001</td>\n",
       "      <td>-37.66428</td>\n",
       "      <td>176.17333</td>\n",
       "      <td>267.998</td>\n",
       "      <td>0.4130</td>\n",
       "      <td>1</td>\n",
       "      <td>37</td>\n",
       "    </tr>\n",
       "    <tr>\n",
       "      <th>3</th>\n",
       "      <td>QC001</td>\n",
       "      <td>933</td>\n",
       "      <td>PICK</td>\n",
       "      <td>2021-03-01</td>\n",
       "      <td>2021-03-01 00:36:53.733</td>\n",
       "      <td>-37.66216</td>\n",
       "      <td>176.16977</td>\n",
       "      <td>PLACE</td>\n",
       "      <td>2021-03-01 00:39:10.736000</td>\n",
       "      <td>-37.66344</td>\n",
       "      <td>176.17103</td>\n",
       "      <td>137.003</td>\n",
       "      <td>0.1804</td>\n",
       "      <td>1</td>\n",
       "      <td>37</td>\n",
       "    </tr>\n",
       "    <tr>\n",
       "      <th>4</th>\n",
       "      <td>QC001</td>\n",
       "      <td>934</td>\n",
       "      <td>PICK</td>\n",
       "      <td>2021-03-01</td>\n",
       "      <td>2021-03-01 00:42:01.736</td>\n",
       "      <td>-37.66665</td>\n",
       "      <td>176.17189</td>\n",
       "      <td>PLACE</td>\n",
       "      <td>2021-03-01 00:46:15.737000</td>\n",
       "      <td>-37.66219</td>\n",
       "      <td>176.16977</td>\n",
       "      <td>254.001</td>\n",
       "      <td>0.5292</td>\n",
       "      <td>1</td>\n",
       "      <td>38</td>\n",
       "    </tr>\n",
       "  </tbody>\n",
       "</table>\n",
       "</div>"
      ],
      "text/plain": [
       "    machine_id  event_id events_name1  StartDate                   start  \\\n",
       "Sno                                                                        \n",
       "0        QC001       930         PICK 2021-03-01 2021-03-01 00:09:17.737   \n",
       "1        QC001       931         PICK 2021-03-01 2021-03-01 00:19:28.734   \n",
       "2        QC001       932         PICK 2021-03-01 2021-03-01 00:27:40.736   \n",
       "3        QC001       933         PICK 2021-03-01 2021-03-01 00:36:53.733   \n",
       "4        QC001       934         PICK 2021-03-01 2021-03-01 00:42:01.736   \n",
       "\n",
       "     start_latitude  start_longitude events_name2                       stop  \\\n",
       "Sno                                                                            \n",
       "0         -37.66171        176.16986        PLACE 2021-03-01 00:12:45.736000   \n",
       "1         -37.66162        176.16988        PLACE 2021-03-01 00:22:36.735000   \n",
       "2         -37.66180        176.16984        PLACE 2021-03-01 00:32:08.734001   \n",
       "3         -37.66216        176.16977        PLACE 2021-03-01 00:39:10.736000   \n",
       "4         -37.66665        176.17189        PLACE 2021-03-01 00:46:15.737000   \n",
       "\n",
       "     stop_latitude  stop_longitude  Elapsed_Sec  distance  ItemCount  \\\n",
       "Sno                                                                    \n",
       "0        -37.65978       176.17058      207.999    0.2234          1   \n",
       "1        -37.66371       176.16962      188.001    0.2331          1   \n",
       "2        -37.66428       176.17333      267.998    0.4130          1   \n",
       "3        -37.66344       176.17103      137.003    0.1804          1   \n",
       "4        -37.66219       176.16977      254.001    0.5292          1   \n",
       "\n",
       "     Weight (Tons)  \n",
       "Sno                 \n",
       "0               36  \n",
       "1               27  \n",
       "2               37  \n",
       "3               37  \n",
       "4               38  "
      ]
     },
     "execution_count": 53,
     "metadata": {},
     "output_type": "execute_result"
    }
   ],
   "source": [
    "df.head()"
   ]
  },
  {
   "cell_type": "code",
   "execution_count": 58,
   "metadata": {
    "execution": {
     "iopub.execute_input": "2022-07-23T10:34:11.384786Z",
     "iopub.status.busy": "2022-07-23T10:34:11.384786Z",
     "iopub.status.idle": "2022-07-23T10:34:11.508785Z",
     "shell.execute_reply": "2022-07-23T10:34:11.507794Z",
     "shell.execute_reply.started": "2022-07-23T10:34:11.384786Z"
    }
   },
   "outputs": [],
   "source": [
    "df1=df.groupby(['machine_id','StartDate'])[['Elapsed_Sec',\t'distance',\t'ItemCount',\t'Weight (Tons)']].sum()\n",
    "df_pivot=df1.pivot_table(index='StartDate',columns='machine_id',values=['Elapsed_Sec','distance',\t'ItemCount',\t'Weight (Tons)'])\n",
    "features=set([i[0] for i in df_pivot.columns.values.tolist()])\n",
    "for i in features:\n",
    "    data=[]\n",
    "    for j in df_pivot.index:\n",
    "        data.append(df_pivot.loc[j,(i,slice(None))].sum())\n",
    "    df_pivot['Total_'+i]=data"
   ]
  },
  {
   "cell_type": "code",
   "execution_count": 21,
   "metadata": {
    "execution": {
     "iopub.execute_input": "2022-07-24T07:39:38.704510Z",
     "iopub.status.busy": "2022-07-24T07:39:38.704510Z",
     "iopub.status.idle": "2022-07-24T07:39:38.734508Z",
     "shell.execute_reply": "2022-07-24T07:39:38.733508Z",
     "shell.execute_reply.started": "2022-07-24T07:39:38.704510Z"
    }
   },
   "outputs": [],
   "source": [
    "df1=df.groupby(['machine_id','StartDate'])[['Elapsed_Sec',\t'distance',\t'ItemCount',\t'Weight (Tons)']].sum().loc['QC001',:]\n",
    "df1.loc['Total']=df1.sum(axis=0)"
   ]
  },
  {
   "cell_type": "code",
   "execution_count": 22,
   "metadata": {
    "execution": {
     "iopub.execute_input": "2022-07-24T07:39:40.000406Z",
     "iopub.status.busy": "2022-07-24T07:39:40.000406Z",
     "iopub.status.idle": "2022-07-24T07:39:40.055406Z",
     "shell.execute_reply": "2022-07-24T07:39:40.054403Z",
     "shell.execute_reply.started": "2022-07-24T07:39:40.000406Z"
    }
   },
   "outputs": [
    {
     "data": {
      "text/html": [
       "<div>\n",
       "<style scoped>\n",
       "    .dataframe tbody tr th:only-of-type {\n",
       "        vertical-align: middle;\n",
       "    }\n",
       "\n",
       "    .dataframe tbody tr th {\n",
       "        vertical-align: top;\n",
       "    }\n",
       "\n",
       "    .dataframe thead th {\n",
       "        text-align: right;\n",
       "    }\n",
       "</style>\n",
       "<table border=\"1\" class=\"dataframe\">\n",
       "  <thead>\n",
       "    <tr style=\"text-align: right;\">\n",
       "      <th></th>\n",
       "      <th>Elapsed_Sec</th>\n",
       "      <th>distance</th>\n",
       "      <th>ItemCount</th>\n",
       "      <th>Weight (Tons)</th>\n",
       "    </tr>\n",
       "    <tr>\n",
       "      <th>StartDate</th>\n",
       "      <th></th>\n",
       "      <th></th>\n",
       "      <th></th>\n",
       "      <th></th>\n",
       "    </tr>\n",
       "  </thead>\n",
       "  <tbody>\n",
       "    <tr>\n",
       "      <th>2021-03-01 00:00:00</th>\n",
       "      <td>3.272300e+04</td>\n",
       "      <td>59.6796</td>\n",
       "      <td>230.0</td>\n",
       "      <td>6876.0</td>\n",
       "    </tr>\n",
       "    <tr>\n",
       "      <th>2021-03-02 00:00:00</th>\n",
       "      <td>3.277304e+04</td>\n",
       "      <td>56.7465</td>\n",
       "      <td>228.0</td>\n",
       "      <td>6849.0</td>\n",
       "    </tr>\n",
       "    <tr>\n",
       "      <th>2021-03-03 00:00:00</th>\n",
       "      <td>3.164925e+07</td>\n",
       "      <td>92.9348</td>\n",
       "      <td>373.0</td>\n",
       "      <td>11153.0</td>\n",
       "    </tr>\n",
       "    <tr>\n",
       "      <th>2021-03-04 00:00:00</th>\n",
       "      <td>1.912466e+07</td>\n",
       "      <td>108.0018</td>\n",
       "      <td>410.0</td>\n",
       "      <td>12459.0</td>\n",
       "    </tr>\n",
       "    <tr>\n",
       "      <th>2021-03-05 00:00:00</th>\n",
       "      <td>3.517800e+04</td>\n",
       "      <td>49.6931</td>\n",
       "      <td>198.0</td>\n",
       "      <td>5902.0</td>\n",
       "    </tr>\n",
       "    <tr>\n",
       "      <th>2021-03-06 00:00:00</th>\n",
       "      <td>3.081696e+04</td>\n",
       "      <td>54.0376</td>\n",
       "      <td>186.0</td>\n",
       "      <td>5500.0</td>\n",
       "    </tr>\n",
       "    <tr>\n",
       "      <th>2021-03-07 00:00:00</th>\n",
       "      <td>2.432702e+04</td>\n",
       "      <td>31.4788</td>\n",
       "      <td>162.0</td>\n",
       "      <td>4919.0</td>\n",
       "    </tr>\n",
       "    <tr>\n",
       "      <th>2021-03-08 00:00:00</th>\n",
       "      <td>-4.921109e+07</td>\n",
       "      <td>56.6172</td>\n",
       "      <td>210.0</td>\n",
       "      <td>6250.0</td>\n",
       "    </tr>\n",
       "    <tr>\n",
       "      <th>Total</th>\n",
       "      <td>1.718640e+06</td>\n",
       "      <td>509.1894</td>\n",
       "      <td>1997.0</td>\n",
       "      <td>59908.0</td>\n",
       "    </tr>\n",
       "  </tbody>\n",
       "</table>\n",
       "</div>"
      ],
      "text/plain": [
       "                      Elapsed_Sec  distance  ItemCount  Weight (Tons)\n",
       "StartDate                                                            \n",
       "2021-03-01 00:00:00  3.272300e+04   59.6796      230.0         6876.0\n",
       "2021-03-02 00:00:00  3.277304e+04   56.7465      228.0         6849.0\n",
       "2021-03-03 00:00:00  3.164925e+07   92.9348      373.0        11153.0\n",
       "2021-03-04 00:00:00  1.912466e+07  108.0018      410.0        12459.0\n",
       "2021-03-05 00:00:00  3.517800e+04   49.6931      198.0         5902.0\n",
       "2021-03-06 00:00:00  3.081696e+04   54.0376      186.0         5500.0\n",
       "2021-03-07 00:00:00  2.432702e+04   31.4788      162.0         4919.0\n",
       "2021-03-08 00:00:00 -4.921109e+07   56.6172      210.0         6250.0\n",
       "Total                1.718640e+06  509.1894     1997.0        59908.0"
      ]
     },
     "execution_count": 22,
     "metadata": {},
     "output_type": "execute_result"
    }
   ],
   "source": [
    "df1"
   ]
  },
  {
   "cell_type": "code",
   "execution_count": 35,
   "metadata": {
    "execution": {
     "iopub.execute_input": "2022-07-24T08:15:47.251066Z",
     "iopub.status.busy": "2022-07-24T08:15:47.250066Z",
     "iopub.status.idle": "2022-07-24T08:15:47.279065Z",
     "shell.execute_reply": "2022-07-24T08:15:47.278069Z",
     "shell.execute_reply.started": "2022-07-24T08:15:47.251066Z"
    }
   },
   "outputs": [],
   "source": [
    "df1=df.groupby(['machine_id','StartDate'])[['Elapsed_Sec',\t'distance',\t'ItemCount',\t'Weight (Tons)']].sum().loc['QC001',:]\n",
    "df1.loc['Total']=df1.sum(axis=0)\n",
    "total=df1.loc['Total']"
   ]
  },
  {
   "cell_type": "code",
   "execution_count": 37,
   "metadata": {
    "execution": {
     "iopub.execute_input": "2022-07-24T08:16:03.161875Z",
     "iopub.status.busy": "2022-07-24T08:16:03.160873Z",
     "iopub.status.idle": "2022-07-24T08:16:03.175870Z",
     "shell.execute_reply": "2022-07-24T08:16:03.174905Z",
     "shell.execute_reply.started": "2022-07-24T08:16:03.161875Z"
    }
   },
   "outputs": [
    {
     "data": {
      "text/plain": [
       "{'Elapsed_Sec': 1718640.129000008,\n",
       " 'distance': 509.1894000000001,\n",
       " 'ItemCount': 1997.0,\n",
       " 'Weight (Tons)': 59908.0}"
      ]
     },
     "execution_count": 37,
     "metadata": {},
     "output_type": "execute_result"
    }
   ],
   "source": [
    "total.to_dict()"
   ]
  },
  {
   "cell_type": "code",
   "execution_count": null,
   "metadata": {},
   "outputs": [],
   "source": []
  }
 ],
 "metadata": {
  "kernelspec": {
   "display_name": "Python 3",
   "language": "python",
   "name": "python3"
  },
  "language_info": {
   "codemirror_mode": {
    "name": "ipython",
    "version": 3
   },
   "file_extension": ".py",
   "mimetype": "text/x-python",
   "name": "python",
   "nbconvert_exporter": "python",
   "pygments_lexer": "ipython3",
   "version": "3.6.8"
  }
 },
 "nbformat": 4,
 "nbformat_minor": 4
}
